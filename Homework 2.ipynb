{
 "cells": [
  {
   "cell_type": "code",
   "execution_count": 4,
   "id": "96fefad5",
   "metadata": {},
   "outputs": [],
   "source": [
    "import numpy as np\n",
    "import pandas as pd\n",
    "import seaborn as sns"
   ]
  },
  {
   "cell_type": "code",
   "execution_count": 2,
   "id": "e427961f",
   "metadata": {},
   "outputs": [
    {
     "data": {
      "text/html": [
       "<div>\n",
       "<style scoped>\n",
       "    .dataframe tbody tr th:only-of-type {\n",
       "        vertical-align: middle;\n",
       "    }\n",
       "\n",
       "    .dataframe tbody tr th {\n",
       "        vertical-align: top;\n",
       "    }\n",
       "\n",
       "    .dataframe thead th {\n",
       "        text-align: right;\n",
       "    }\n",
       "</style>\n",
       "<table border=\"1\" class=\"dataframe\">\n",
       "  <thead>\n",
       "    <tr style=\"text-align: right;\">\n",
       "      <th></th>\n",
       "      <th>longitude</th>\n",
       "      <th>latitude</th>\n",
       "      <th>housing_median_age</th>\n",
       "      <th>total_rooms</th>\n",
       "      <th>total_bedrooms</th>\n",
       "      <th>population</th>\n",
       "      <th>households</th>\n",
       "      <th>median_income</th>\n",
       "      <th>median_house_value</th>\n",
       "      <th>ocean_proximity</th>\n",
       "    </tr>\n",
       "  </thead>\n",
       "  <tbody>\n",
       "    <tr>\n",
       "      <th>0</th>\n",
       "      <td>-122.23</td>\n",
       "      <td>37.88</td>\n",
       "      <td>41.0</td>\n",
       "      <td>880.0</td>\n",
       "      <td>129.0</td>\n",
       "      <td>322.0</td>\n",
       "      <td>126.0</td>\n",
       "      <td>8.3252</td>\n",
       "      <td>452600.0</td>\n",
       "      <td>NEAR BAY</td>\n",
       "    </tr>\n",
       "    <tr>\n",
       "      <th>1</th>\n",
       "      <td>-122.22</td>\n",
       "      <td>37.86</td>\n",
       "      <td>21.0</td>\n",
       "      <td>7099.0</td>\n",
       "      <td>1106.0</td>\n",
       "      <td>2401.0</td>\n",
       "      <td>1138.0</td>\n",
       "      <td>8.3014</td>\n",
       "      <td>358500.0</td>\n",
       "      <td>NEAR BAY</td>\n",
       "    </tr>\n",
       "    <tr>\n",
       "      <th>2</th>\n",
       "      <td>-122.24</td>\n",
       "      <td>37.85</td>\n",
       "      <td>52.0</td>\n",
       "      <td>1467.0</td>\n",
       "      <td>190.0</td>\n",
       "      <td>496.0</td>\n",
       "      <td>177.0</td>\n",
       "      <td>7.2574</td>\n",
       "      <td>352100.0</td>\n",
       "      <td>NEAR BAY</td>\n",
       "    </tr>\n",
       "    <tr>\n",
       "      <th>3</th>\n",
       "      <td>-122.25</td>\n",
       "      <td>37.85</td>\n",
       "      <td>52.0</td>\n",
       "      <td>1274.0</td>\n",
       "      <td>235.0</td>\n",
       "      <td>558.0</td>\n",
       "      <td>219.0</td>\n",
       "      <td>5.6431</td>\n",
       "      <td>341300.0</td>\n",
       "      <td>NEAR BAY</td>\n",
       "    </tr>\n",
       "    <tr>\n",
       "      <th>4</th>\n",
       "      <td>-122.25</td>\n",
       "      <td>37.85</td>\n",
       "      <td>52.0</td>\n",
       "      <td>1627.0</td>\n",
       "      <td>280.0</td>\n",
       "      <td>565.0</td>\n",
       "      <td>259.0</td>\n",
       "      <td>3.8462</td>\n",
       "      <td>342200.0</td>\n",
       "      <td>NEAR BAY</td>\n",
       "    </tr>\n",
       "  </tbody>\n",
       "</table>\n",
       "</div>"
      ],
      "text/plain": [
       "   longitude  latitude  housing_median_age  total_rooms  total_bedrooms  \\\n",
       "0    -122.23     37.88                41.0        880.0           129.0   \n",
       "1    -122.22     37.86                21.0       7099.0          1106.0   \n",
       "2    -122.24     37.85                52.0       1467.0           190.0   \n",
       "3    -122.25     37.85                52.0       1274.0           235.0   \n",
       "4    -122.25     37.85                52.0       1627.0           280.0   \n",
       "\n",
       "   population  households  median_income  median_house_value ocean_proximity  \n",
       "0       322.0       126.0         8.3252            452600.0        NEAR BAY  \n",
       "1      2401.0      1138.0         8.3014            358500.0        NEAR BAY  \n",
       "2       496.0       177.0         7.2574            352100.0        NEAR BAY  \n",
       "3       558.0       219.0         5.6431            341300.0        NEAR BAY  \n",
       "4       565.0       259.0         3.8462            342200.0        NEAR BAY  "
      ]
     },
     "execution_count": 2,
     "metadata": {},
     "output_type": "execute_result"
    }
   ],
   "source": [
    "df= pd.read_csv('housing.csv')\n",
    "df.head()"
   ]
  },
  {
   "cell_type": "code",
   "execution_count": 5,
   "id": "f2d67f2c",
   "metadata": {},
   "outputs": [
    {
     "data": {
      "text/plain": [
       "<AxesSubplot:xlabel='median_house_value', ylabel='Count'>"
      ]
     },
     "execution_count": 5,
     "metadata": {},
     "output_type": "execute_result"
    },
    {
     "data": {
      "image/png": "[encoded data removed]",
      "text/plain": [
       "<Figure size 432x288 with 1 Axes>"
      ]
     },
     "metadata": {
      "needs_background": "light"
     },
     "output_type": "display_data"
    }
   ],
   "source": [
    "sns.histplot(df['median_house_value'])"
   ]
  },
  {
   "cell_type": "code",
   "execution_count": 6,
   "id": "e9c612fb",
   "metadata": {},
   "outputs": [],
   "source": [
    "df = df[['latitude','longitude','housing_median_age','total_rooms',\n",
    "         'total_bedrooms','population','households','median_income','median_house_value']]"
   ]
  },
  {
   "cell_type": "markdown",
   "id": "ba8e9ecf",
   "metadata": {},
   "source": [
    "### Question 1"
   ]
  },
  {
   "cell_type": "code",
   "execution_count": 7,
   "id": "76322758",
   "metadata": {},
   "outputs": [
    {
     "data": {
      "text/plain": [
       "latitude                0\n",
       "longitude               0\n",
       "housing_median_age      0\n",
       "total_rooms             0\n",
       "total_bedrooms        207\n",
       "population              0\n",
       "households              0\n",
       "median_income           0\n",
       "median_house_value      0\n",
       "dtype: int64"
      ]
     },
     "execution_count": 7,
     "metadata": {},
     "output_type": "execute_result"
    }
   ],
   "source": [
    "df.isnull().sum()"
   ]
  },
  {
   "cell_type": "markdown",
   "id": "c991132d",
   "metadata": {},
   "source": [
    "### Question 2"
   ]
  },
  {
   "cell_type": "code",
   "execution_count": 8,
   "id": "1c8aa240",
   "metadata": {},
   "outputs": [
    {
     "data": {
      "text/plain": [
       "1166.0"
      ]
     },
     "execution_count": 8,
     "metadata": {},
     "output_type": "execute_result"
    }
   ],
   "source": [
    "df.population.median()"
   ]
  },
  {
   "cell_type": "code",
   "execution_count": 10,
   "id": "fbe6f7f3",
   "metadata": {},
   "outputs": [],
   "source": [
    "n= df.shape[0]\n",
    "np.random.seed(42)\n",
    "\n",
    "idx= np.arange(n)\n",
    "np.random.shuffle(idx)"
   ]
  },
  {
   "cell_type": "code",
   "execution_count": 11,
   "id": "772a07b3",
   "metadata": {},
   "outputs": [
    {
     "data": {
      "text/plain": [
       "array([20046,  3024, 15663, ...,  5390,   860, 15795])"
      ]
     },
     "execution_count": 11,
     "metadata": {},
     "output_type": "execute_result"
    }
   ],
   "source": [
    "idx"
   ]
  },
  {
   "cell_type": "code",
   "execution_count": 13,
   "id": "e7b9c76f",
   "metadata": {},
   "outputs": [],
   "source": [
    "n_val = int(0.2*n)\n",
    "n_test = int(0.2*n)\n",
    "n_train = n-n_test-n_val"
   ]
  },
  {
   "cell_type": "code",
   "execution_count": 15,
   "id": "47123935",
   "metadata": {},
   "outputs": [],
   "source": [
    "df_train = df.iloc[idx[:n_train]]\n",
    "df_val = df.iloc[idx[n_train:n_train+n_val]]\n",
    "df_test = df.iloc[idx[n_train+n_val:]]"
   ]
  },
  {
   "cell_type": "code",
   "execution_count": 16,
   "id": "aebb6ed7",
   "metadata": {},
   "outputs": [],
   "source": [
    "df_train = df_train.reset_index(drop=True)\n",
    "df_val = df_val.reset_index(drop=True)\n",
    "df_test = df_test.reset_index(drop=True)"
   ]
  },
  {
   "cell_type": "code",
   "execution_count": 19,
   "id": "f37a11d1",
   "metadata": {},
   "outputs": [],
   "source": [
    "y_train = np.log1p(df_train.median_house_value.values)\n",
    "y_val = np.log1p(df_val.median_house_value.values)\n",
    "y_test = np.log1p(df_test.median_house_value.values)"
   ]
  },
  {
   "cell_type": "code",
   "execution_count": 20,
   "id": "27e33a81",
   "metadata": {},
   "outputs": [],
   "source": [
    "del df_train['median_house_value']\n",
    "del df_val['median_house_value']\n",
    "del df_test['median_house_value']\n"
   ]
  },
  {
   "cell_type": "markdown",
   "id": "7baef8e2",
   "metadata": {},
   "source": [
    "### Linear Regression"
   ]
  },
  {
   "cell_type": "code",
   "execution_count": 51,
   "id": "dfa8b3d7",
   "metadata": {},
   "outputs": [],
   "source": [
    "def train_linear_regression(X, y):\n",
    "    ones = np.ones(X.shape[0])\n",
    "    X = np.column_stack([ones, X])\n",
    "\n",
    "    XTX = X.T.dot(X)\n",
    "    XTX_inv = np.linalg.inv(XTX)\n",
    "    w = XTX_inv.dot(X.T).dot(y)\n",
    "    \n",
    "    return w[0], w[1:]"
   ]
  },
  {
   "cell_type": "code",
   "execution_count": 52,
   "id": "8070dbb5",
   "metadata": {},
   "outputs": [],
   "source": [
    "df_zero = df_train\n",
    "df_mean = df_train\n",
    "\n",
    "df_zero['total_bedrooms'] = df_zero['total_bedrooms'].fillna(0)\n",
    "X_zero = df_zero.values\n",
    "\n",
    "df_mean['total_bedrooms'] = df_mean['total_bedrooms'].fillna(df_train['total_bedrooms'].mean())\n",
    "X_mean = df_mean.values\n"
   ]
  },
  {
   "cell_type": "code",
   "execution_count": 53,
   "id": "3d9d8b74",
   "metadata": {},
   "outputs": [],
   "source": [
    "#zero fillna\n",
    "w_0_zero, w_zero = train_linear_regression(X_zero, y_train)\n",
    "y_pred_zero = w_0_zero + X_zero.dot(w_zero)"
   ]
  },
  {
   "cell_type": "code",
   "execution_count": 54,
   "id": "0559880c",
   "metadata": {},
   "outputs": [],
   "source": [
    "#mean fillna\n",
    "w_0_mean, w_mean = train_linear_regression(X_mean, y_train)\n",
    "y_pred_mean = w_0_mean + X_mean.dot(w_mean)"
   ]
  },
  {
   "cell_type": "code",
   "execution_count": 55,
   "id": "93419ad3",
   "metadata": {},
   "outputs": [],
   "source": [
    "def rmse(y, y_pred):\n",
    "    error = y_pred - y\n",
    "    mse = (error ** 2).mean()\n",
    "    return np.sqrt(mse)"
   ]
  },
  {
   "cell_type": "code",
   "execution_count": 56,
   "id": "e9423f1e",
   "metadata": {},
   "outputs": [],
   "source": [
    "df_zero_val = df_val\n",
    "df_mean_val = df_val\n",
    "\n",
    "df_zero_val['total_bedrooms'] = df_zero_val['total_bedrooms'].fillna(0)\n",
    "X_zero_val = df_zero_val.values\n",
    "\n",
    "df_mean_val['total_bedrooms'] = df_mean_val['total_bedrooms'].fillna(df_train['total_bedrooms'].mean())\n",
    "X_mean_val = df_mean_val.values"
   ]
  },
  {
   "cell_type": "code",
   "execution_count": 57,
   "id": "5d3fa599",
   "metadata": {},
   "outputs": [],
   "source": [
    "y_pred_zero_val = w_0 + X_zero_val.dot(w)\n",
    "y_pred_mean_val = w_0 + X_mean_val.dot(w)"
   ]
  },
  {
   "cell_type": "code",
   "execution_count": 58,
   "id": "67d31679",
   "metadata": {},
   "outputs": [
    {
     "name": "stdout",
     "output_type": "stream",
     "text": [
      "0.33\n",
      "0.33\n"
     ]
    }
   ],
   "source": [
    "print(round(rmse(y_val, y_pred_zero_val),2))\n",
    "print(round(rmse(y_val, y_pred_mean_val),2))"
   ]
  },
  {
   "cell_type": "markdown",
   "id": "2298746d",
   "metadata": {},
   "source": [
    "### Regularization"
   ]
  },
  {
   "cell_type": "code",
   "execution_count": 45,
   "id": "8be43bad",
   "metadata": {},
   "outputs": [],
   "source": [
    "def train_linear_regression_reg(X, y, r=0.0):\n",
    "    ones = np.ones(X.shape[0])\n",
    "    X = np.column_stack([ones, X])\n",
    "\n",
    "    XTX = X.T.dot(X)\n",
    "    reg = r * np.eye(XTX.shape[0])\n",
    "    XTX = XTX + reg\n",
    "\n",
    "    XTX_inv = np.linalg.inv(XTX)\n",
    "    w = XTX_inv.dot(X.T).dot(y)\n",
    "    \n",
    "    return w[0], w[1:]"
   ]
  },
  {
   "cell_type": "code",
   "execution_count": null,
   "id": "10185f00",
   "metadata": {},
   "outputs": [],
   "source": [
    "df_zero = df_train\n",
    "\n",
    "df_zero['total_bedrooms'] = df_zero['total_bedrooms'].fillna(0)\n",
    "X_zero = df_zero.values"
   ]
  },
  {
   "cell_type": "code",
   "execution_count": 66,
   "id": "79098a20",
   "metadata": {},
   "outputs": [
    {
     "name": "stdout",
     "output_type": "stream",
     "text": [
      "     0 0.328641636\n",
      " 1e-06 0.328641637\n",
      "0.0001 0.328641728\n",
      " 0.001 0.328642597\n",
      "  0.01 0.328655499\n",
      "   0.1 0.329074706\n",
      "     1 0.334712801\n",
      "     5 0.339793628\n",
      "    10 0.340861587\n"
     ]
    }
   ],
   "source": [
    "r_list = [0, 0.000001, 0.0001, 0.001, 0.01, 0.1, 1, 5, 10]\n",
    "X_val = df_val.values\n",
    "for r in r_list:\n",
    "    w_0, w = train_linear_regression_reg(X_zero, y_train, r=r)\n",
    "    y_pred = w_0 + X_val.dot(w)\n",
    "    print('%6s' %r, round(rmse(y_val, y_pred),9))"
   ]
  },
  {
   "cell_type": "markdown",
   "id": "84316b80",
   "metadata": {},
   "source": [
    "### Question 6"
   ]
  },
  {
   "cell_type": "code",
   "execution_count": 67,
   "id": "3a328e79",
   "metadata": {},
   "outputs": [],
   "source": [
    "n= df.shape[0]\n",
    "np.random.seed(9)\n",
    "\n",
    "idx= np.arange(n)\n",
    "np.random.shuffle(idx)"
   ]
  },
  {
   "cell_type": "code",
   "execution_count": 68,
   "id": "41357e6a",
   "metadata": {},
   "outputs": [],
   "source": [
    "n_test = int(0.2*n)\n",
    "n_train = n-n_test"
   ]
  },
  {
   "cell_type": "code",
   "execution_count": 69,
   "id": "9e7079fd",
   "metadata": {},
   "outputs": [],
   "source": [
    "df_train = df.iloc[idx[:n_train]]\n",
    "df_test = df.iloc[idx[n_train:]]\n",
    "\n",
    "df_train = df_train.reset_index(drop=True)\n",
    "df_test = df_test.reset_index(drop=True)"
   ]
  },
  {
   "cell_type": "code",
   "execution_count": 70,
   "id": "5b89bd09",
   "metadata": {},
   "outputs": [],
   "source": [
    "y_train = np.log1p(df_train.median_house_value.values)\n",
    "y_test = np.log1p(df_test.median_house_value.values)"
   ]
  },
  {
   "cell_type": "code",
   "execution_count": 71,
   "id": "7799c637",
   "metadata": {},
   "outputs": [],
   "source": [
    "del df_train['median_house_value']\n",
    "del df_test['median_house_value']"
   ]
  },
  {
   "cell_type": "code",
   "execution_count": 73,
   "id": "f1343f19",
   "metadata": {},
   "outputs": [],
   "source": [
    "df_zero = df_train\n",
    "\n",
    "df_zero['total_bedrooms'] = df_zero['total_bedrooms'].fillna(0)\n",
    "X_zero = df_zero.values\n",
    "X_test = df_test.values"
   ]
  },
  {
   "cell_type": "code",
   "execution_count": 81,
   "id": "da947606",
   "metadata": {},
   "outputs": [
    {
     "name": "stdout",
     "output_type": "stream",
     "text": [
      "    10 nan\n"
     ]
    }
   ],
   "source": [
    "w_0, w = train_linear_regression_reg(X_zero, y_train, r=0.001)\n",
    "y_pred = w_0 + X_test.dot(w)\n",
    "print('%6s' %r, rmse(y_test, y_pred))"
   ]
  },
  {
   "cell_type": "code",
   "execution_count": 80,
   "id": "c166b2de",
   "metadata": {},
   "outputs": [],
   "source": [
    "def rmse(y, y_pred):\n",
    "    error = y_pred - y\n",
    "    mse = (error ** 2).mean()\n",
    "    return np.sqrt(mse)"
   ]
  },
  {
   "cell_type": "code",
   "execution_count": 82,
   "id": "5de436d0",
   "metadata": {},
   "outputs": [],
   "source": [
    "error = y_pred - y_test"
   ]
  },
  {
   "cell_type": "code",
   "execution_count": 84,
   "id": "26108497",
   "metadata": {},
   "outputs": [],
   "source": [
    "mse = (error ** 2).mean()"
   ]
  },
  {
   "cell_type": "code",
   "execution_count": 86,
   "id": "fc2decfc",
   "metadata": {},
   "outputs": [
    {
     "data": {
      "text/plain": [
       "nan"
      ]
     },
     "execution_count": 86,
     "metadata": {},
     "output_type": "execute_result"
    }
   ],
   "source": [
    "mse"
   ]
  },
  {
   "cell_type": "code",
   "execution_count": null,
   "id": "6bc735ee",
   "metadata": {},
   "outputs": [],
   "source": []
  }
 ],
 "metadata": {
  "kernelspec": {
   "display_name": "Python 3 (ipykernel)",
   "language": "python",
   "name": "python3"
  },
  "language_info": {
   "codemirror_mode": {
    "name": "ipython",
    "version": 3
   },
   "file_extension": ".py",
   "mimetype": "text/x-python",
   "name": "python",
   "nbconvert_exporter": "python",
   "pygments_lexer": "ipython3",
   "version": "3.9.12"
  }
 },
 "nbformat": 4,
 "nbformat_minor": 5
}
